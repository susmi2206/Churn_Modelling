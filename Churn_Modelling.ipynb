{
  "nbformat": 4,
  "nbformat_minor": 0,
  "metadata": {
    "colab": {
      "provenance": []
    },
    "kernelspec": {
      "name": "python3",
      "display_name": "Python 3"
    },
    "language_info": {
      "name": "python"
    }
  },
  "cells": [
    {
      "cell_type": "markdown",
      "source": [
        "### Churn Prediction\n",
        "\n"
      ],
      "metadata": {
        "id": "5KQdXd0UqRTU"
      }
    },
    {
      "cell_type": "code",
      "execution_count": null,
      "metadata": {
        "id": "QxUvAdoXpyqM"
      },
      "outputs": [],
      "source": [
        "# Necessary Libraries\n",
        "import pandas as pd\n",
        "from sklearn.model_selection import train_test_split\n",
        "from sklearn.preprocessing import StandardScaler, LabelEncoder\n",
        "from sklearn.linear_model import LogisticRegression\n",
        "from sklearn.ensemble import RandomForestClassifier\n",
        "from sklearn.ensemble import GradientBoostingClassifier\n",
        "from sklearn.neighbors import KNeighborsClassifier\n",
        "from sklearn.naive_bayes import GaussianNB\n",
        "from sklearn.ensemble import AdaBoostClassifier\n",
        "import xgboost as xgb\n",
        "from sklearn.neural_network import MLPClassifier\n",
        "\n",
        "from sklearn.svm import SVC\n",
        "from sklearn.metrics import classification_report, roc_auc_score\n",
        "from imblearn.over_sampling import SMOTE\n"
      ]
    },
    {
      "cell_type": "code",
      "source": [
        "#Loading the dataset\n",
        "data = pd.read_csv('Churn_Modelling.csv')"
      ],
      "metadata": {
        "id": "FOTEBo-8qc17"
      },
      "execution_count": null,
      "outputs": []
    },
    {
      "cell_type": "code",
      "source": [
        "# Preprocessing the Dataset\n",
        "# Handling missing values if any\n",
        "data = data.dropna()\n",
        "\n",
        "# Encoding categorical variables\n",
        "label_encoder = LabelEncoder()\n",
        "data['Geography'] = label_encoder.fit_transform(data['Geography'])\n",
        "data['Gender'] = label_encoder.fit_transform(data['Gender'])\n",
        "\n",
        "# Defining features and target\n",
        "X = data.drop(columns=['RowNumber', 'CustomerId', 'Surname', 'Exited','Gender'])\n",
        "y = data['Exited']\n",
        "\n",
        "# Splitting the data\n",
        "X_train, X_test, y_train, y_test = train_test_split(X, y, test_size=0.2, random_state=42)\n",
        "\n",
        "# Standardizing numerical features\n",
        "scaler = StandardScaler()\n",
        "X_train = scaler.fit_transform(X_train)\n",
        "X_test = scaler.transform(X_test)\n",
        "\n",
        "\n",
        "# Balancing the Dataset\n",
        "\n",
        "smote = SMOTE(random_state=42)\n",
        "X_train_res, y_train_res = smote.fit_resample(X_train, y_train)"
      ],
      "metadata": {
        "id": "NDU8iMbsuKZ5"
      },
      "execution_count": null,
      "outputs": []
    },
    {
      "cell_type": "code",
      "source": [
        "#Finding the correlations between the features\n",
        "# Defining features and target\n",
        "X = data.drop(columns=['RowNumber', 'CustomerId', 'Surname', 'Exited'])\n",
        "\n",
        "# Computing the correlation matrix\n",
        "correlation_matrix = X.corr()\n",
        "\n",
        "# Printing the correlation matrix\n",
        "print(\"Correlation Matrix:\\n\", correlation_matrix)\n",
        "\n",
        "# If you want to find the correlations between each pair of features separately:\n",
        "for col1 in correlation_matrix.columns:\n",
        "    for col2 in correlation_matrix.columns:\n",
        "        if col1 != col2:\n",
        "            correlation_value = correlation_matrix.loc[col1, col2]\n",
        "            print(f\"Correlation between {col1} and {col2}: {correlation_value}\")\n"
      ],
      "metadata": {
        "colab": {
          "base_uri": "https://localhost:8080/"
        },
        "id": "bL3V0HcQxqRh",
        "outputId": "aa87a1da-4a5b-44bb-ccf6-c3480ada47c6"
      },
      "execution_count": null,
      "outputs": [
        {
          "output_type": "stream",
          "name": "stdout",
          "text": [
            "Correlation Matrix:\n",
            "                  CreditScore  Geography    Gender       Age    Tenure  \\\n",
            "CreditScore         1.000000   0.007888 -0.002857 -0.003965  0.000842   \n",
            "Geography           0.007888   1.000000  0.004719  0.022812  0.003739   \n",
            "Gender             -0.002857   0.004719  1.000000 -0.027544  0.014733   \n",
            "Age                -0.003965   0.022812 -0.027544  1.000000 -0.009997   \n",
            "Tenure              0.000842   0.003739  0.014733 -0.009997  1.000000   \n",
            "Balance             0.006268   0.069408  0.012087  0.028308 -0.012254   \n",
            "NumOfProducts       0.012238   0.003972 -0.021859 -0.030680  0.013444   \n",
            "HasCrCard          -0.005458  -0.008523  0.005766 -0.011721  0.022583   \n",
            "IsActiveMember      0.025651   0.006724  0.022544  0.085472 -0.028362   \n",
            "EstimatedSalary    -0.001384  -0.001369 -0.008112 -0.007201  0.007784   \n",
            "\n",
            "                  Balance  NumOfProducts  HasCrCard  IsActiveMember  \\\n",
            "CreditScore      0.006268       0.012238  -0.005458        0.025651   \n",
            "Geography        0.069408       0.003972  -0.008523        0.006724   \n",
            "Gender           0.012087      -0.021859   0.005766        0.022544   \n",
            "Age              0.028308      -0.030680  -0.011721        0.085472   \n",
            "Tenure          -0.012254       0.013444   0.022583       -0.028362   \n",
            "Balance          1.000000      -0.304180  -0.014858       -0.010084   \n",
            "NumOfProducts   -0.304180       1.000000   0.003183        0.009612   \n",
            "HasCrCard       -0.014858       0.003183   1.000000       -0.011866   \n",
            "IsActiveMember  -0.010084       0.009612  -0.011866        1.000000   \n",
            "EstimatedSalary  0.012797       0.014204  -0.009933       -0.011421   \n",
            "\n",
            "                 EstimatedSalary  \n",
            "CreditScore            -0.001384  \n",
            "Geography              -0.001369  \n",
            "Gender                 -0.008112  \n",
            "Age                    -0.007201  \n",
            "Tenure                  0.007784  \n",
            "Balance                 0.012797  \n",
            "NumOfProducts           0.014204  \n",
            "HasCrCard              -0.009933  \n",
            "IsActiveMember         -0.011421  \n",
            "EstimatedSalary         1.000000  \n",
            "Correlation between CreditScore and Geography: 0.007888128545815436\n",
            "Correlation between CreditScore and Gender: -0.002856620120447605\n",
            "Correlation between CreditScore and Age: -0.003964905525390104\n",
            "Correlation between CreditScore and Tenure: 0.0008419418186461318\n",
            "Correlation between CreditScore and Balance: 0.0062683816160088975\n",
            "Correlation between CreditScore and NumOfProducts: 0.012237879283267987\n",
            "Correlation between CreditScore and HasCrCard: -0.005458482094623394\n",
            "Correlation between CreditScore and IsActiveMember: 0.0256513232831485\n",
            "Correlation between CreditScore and EstimatedSalary: -0.0013842928679844149\n",
            "Correlation between Geography and CreditScore: 0.007888128545815436\n",
            "Correlation between Geography and Gender: 0.004718525886495508\n",
            "Correlation between Geography and Age: 0.022811522165000667\n",
            "Correlation between Geography and Tenure: 0.0037387848501085966\n",
            "Correlation between Geography and Balance: 0.0694081216557261\n",
            "Correlation between Geography and NumOfProducts: 0.0039721338768304235\n",
            "Correlation between Geography and HasCrCard: -0.008522771750168556\n",
            "Correlation between Geography and IsActiveMember: 0.006724300928239613\n",
            "Correlation between Geography and EstimatedSalary: -0.0013685636681666073\n",
            "Correlation between Gender and CreditScore: -0.002856620120447605\n",
            "Correlation between Gender and Geography: 0.004718525886495508\n",
            "Correlation between Gender and Age: -0.02754399265388837\n",
            "Correlation between Gender and Tenure: 0.014733053002925772\n",
            "Correlation between Gender and Balance: 0.012086568634240352\n",
            "Correlation between Gender and NumOfProducts: -0.02185856761230862\n",
            "Correlation between Gender and HasCrCard: 0.005766124371501157\n",
            "Correlation between Gender and IsActiveMember: 0.022544324652307938\n",
            "Correlation between Gender and EstimatedSalary: -0.008112338913543007\n",
            "Correlation between Age and CreditScore: -0.003964905525390104\n",
            "Correlation between Age and Geography: 0.022811522165000667\n",
            "Correlation between Age and Gender: -0.02754399265388837\n",
            "Correlation between Age and Tenure: -0.009996825590774179\n",
            "Correlation between Age and Balance: 0.028308368327491767\n",
            "Correlation between Age and NumOfProducts: -0.030680087961508614\n",
            "Correlation between Age and HasCrCard: -0.011721029001738782\n",
            "Correlation between Age and IsActiveMember: 0.08547214540357692\n",
            "Correlation between Age and EstimatedSalary: -0.007201042376657382\n",
            "Correlation between Tenure and CreditScore: 0.0008419418186461318\n",
            "Correlation between Tenure and Geography: 0.0037387848501085966\n",
            "Correlation between Tenure and Gender: 0.014733053002925772\n",
            "Correlation between Tenure and Age: -0.009996825590774179\n",
            "Correlation between Tenure and Balance: -0.012253926175215429\n",
            "Correlation between Tenure and NumOfProducts: 0.013443755460747366\n",
            "Correlation between Tenure and HasCrCard: 0.022582867284984258\n",
            "Correlation between Tenure and IsActiveMember: -0.02836207777162841\n",
            "Correlation between Tenure and EstimatedSalary: 0.007783825455810554\n",
            "Correlation between Balance and CreditScore: 0.0062683816160088975\n",
            "Correlation between Balance and Geography: 0.0694081216557261\n",
            "Correlation between Balance and Gender: 0.012086568634240352\n",
            "Correlation between Balance and Age: 0.028308368327491767\n",
            "Correlation between Balance and Tenure: -0.012253926175215429\n",
            "Correlation between Balance and NumOfProducts: -0.3041797383605498\n",
            "Correlation between Balance and HasCrCard: -0.0148583449445987\n",
            "Correlation between Balance and IsActiveMember: -0.010084100438351628\n",
            "Correlation between Balance and EstimatedSalary: 0.012797496340555773\n",
            "Correlation between NumOfProducts and CreditScore: 0.012237879283267987\n",
            "Correlation between NumOfProducts and Geography: 0.0039721338768304235\n",
            "Correlation between NumOfProducts and Gender: -0.02185856761230862\n",
            "Correlation between NumOfProducts and Age: -0.030680087961508614\n",
            "Correlation between NumOfProducts and Tenure: 0.013443755460747366\n",
            "Correlation between NumOfProducts and Balance: -0.3041797383605498\n",
            "Correlation between NumOfProducts and HasCrCard: 0.00318314599305221\n",
            "Correlation between NumOfProducts and IsActiveMember: 0.00961187591132792\n",
            "Correlation between NumOfProducts and EstimatedSalary: 0.014204195129094608\n",
            "Correlation between HasCrCard and CreditScore: -0.005458482094623394\n",
            "Correlation between HasCrCard and Geography: -0.008522771750168556\n",
            "Correlation between HasCrCard and Gender: 0.005766124371501157\n",
            "Correlation between HasCrCard and Age: -0.011721029001738782\n",
            "Correlation between HasCrCard and Tenure: 0.022582867284984258\n",
            "Correlation between HasCrCard and Balance: -0.0148583449445987\n",
            "Correlation between HasCrCard and NumOfProducts: 0.00318314599305221\n",
            "Correlation between HasCrCard and IsActiveMember: -0.011865636878457913\n",
            "Correlation between HasCrCard and EstimatedSalary: -0.009933414652547745\n",
            "Correlation between IsActiveMember and CreditScore: 0.0256513232831485\n",
            "Correlation between IsActiveMember and Geography: 0.006724300928239613\n",
            "Correlation between IsActiveMember and Gender: 0.022544324652307938\n",
            "Correlation between IsActiveMember and Age: 0.08547214540357692\n",
            "Correlation between IsActiveMember and Tenure: -0.02836207777162841\n",
            "Correlation between IsActiveMember and Balance: -0.010084100438351628\n",
            "Correlation between IsActiveMember and NumOfProducts: 0.00961187591132792\n",
            "Correlation between IsActiveMember and HasCrCard: -0.011865636878457913\n",
            "Correlation between IsActiveMember and EstimatedSalary: -0.01142143048495656\n",
            "Correlation between EstimatedSalary and CreditScore: -0.0013842928679844149\n",
            "Correlation between EstimatedSalary and Geography: -0.0013685636681666073\n",
            "Correlation between EstimatedSalary and Gender: -0.008112338913543007\n",
            "Correlation between EstimatedSalary and Age: -0.007201042376657382\n",
            "Correlation between EstimatedSalary and Tenure: 0.007783825455810554\n",
            "Correlation between EstimatedSalary and Balance: 0.012797496340555773\n",
            "Correlation between EstimatedSalary and NumOfProducts: 0.014204195129094608\n",
            "Correlation between EstimatedSalary and HasCrCard: -0.009933414652547745\n",
            "Correlation between EstimatedSalary and IsActiveMember: -0.01142143048495656\n"
          ]
        }
      ]
    },
    {
      "cell_type": "code",
      "source": [
        "# Adding target variable to the features dataframe\n",
        "X['Exited'] = y\n",
        "\n",
        "# Compute the correlation matrix\n",
        "correlation_matrix = X.corr()\n",
        "\n",
        "# Print the correlation matrix\n",
        "print(\"Correlation Matrix:\\n\", correlation_matrix)\n",
        "\n",
        "# Print correlations between features and the target variable\n",
        "target_correlations = correlation_matrix['Exited'].drop('Exited')  # Drop the correlation of target with itself\n",
        "print(\"\\nCorrelations with target variable (Exited):\\n\", target_correlations)\n"
      ],
      "metadata": {
        "colab": {
          "base_uri": "https://localhost:8080/"
        },
        "id": "jBN9Tq6SyBz1",
        "outputId": "d825cd76-f368-4132-d807-893ab02d00c9"
      },
      "execution_count": null,
      "outputs": [
        {
          "output_type": "stream",
          "name": "stdout",
          "text": [
            "Correlation Matrix:\n",
            "                  CreditScore  Geography    Gender       Age    Tenure  \\\n",
            "CreditScore         1.000000   0.007888 -0.002857 -0.003965  0.000842   \n",
            "Geography           0.007888   1.000000  0.004719  0.022812  0.003739   \n",
            "Gender             -0.002857   0.004719  1.000000 -0.027544  0.014733   \n",
            "Age                -0.003965   0.022812 -0.027544  1.000000 -0.009997   \n",
            "Tenure              0.000842   0.003739  0.014733 -0.009997  1.000000   \n",
            "Balance             0.006268   0.069408  0.012087  0.028308 -0.012254   \n",
            "NumOfProducts       0.012238   0.003972 -0.021859 -0.030680  0.013444   \n",
            "HasCrCard          -0.005458  -0.008523  0.005766 -0.011721  0.022583   \n",
            "IsActiveMember      0.025651   0.006724  0.022544  0.085472 -0.028362   \n",
            "EstimatedSalary    -0.001384  -0.001369 -0.008112 -0.007201  0.007784   \n",
            "Exited             -0.027094   0.035943 -0.106512  0.285323 -0.014001   \n",
            "\n",
            "                  Balance  NumOfProducts  HasCrCard  IsActiveMember  \\\n",
            "CreditScore      0.006268       0.012238  -0.005458        0.025651   \n",
            "Geography        0.069408       0.003972  -0.008523        0.006724   \n",
            "Gender           0.012087      -0.021859   0.005766        0.022544   \n",
            "Age              0.028308      -0.030680  -0.011721        0.085472   \n",
            "Tenure          -0.012254       0.013444   0.022583       -0.028362   \n",
            "Balance          1.000000      -0.304180  -0.014858       -0.010084   \n",
            "NumOfProducts   -0.304180       1.000000   0.003183        0.009612   \n",
            "HasCrCard       -0.014858       0.003183   1.000000       -0.011866   \n",
            "IsActiveMember  -0.010084       0.009612  -0.011866        1.000000   \n",
            "EstimatedSalary  0.012797       0.014204  -0.009933       -0.011421   \n",
            "Exited           0.118533      -0.047820  -0.007138       -0.156128   \n",
            "\n",
            "                 EstimatedSalary    Exited  \n",
            "CreditScore            -0.001384 -0.027094  \n",
            "Geography              -0.001369  0.035943  \n",
            "Gender                 -0.008112 -0.106512  \n",
            "Age                    -0.007201  0.285323  \n",
            "Tenure                  0.007784 -0.014001  \n",
            "Balance                 0.012797  0.118533  \n",
            "NumOfProducts           0.014204 -0.047820  \n",
            "HasCrCard              -0.009933 -0.007138  \n",
            "IsActiveMember         -0.011421 -0.156128  \n",
            "EstimatedSalary         1.000000  0.012097  \n",
            "Exited                  0.012097  1.000000  \n",
            "\n",
            "Correlations with target variable (Exited):\n",
            " CreditScore       -0.027094\n",
            "Geography          0.035943\n",
            "Gender            -0.106512\n",
            "Age                0.285323\n",
            "Tenure            -0.014001\n",
            "Balance            0.118533\n",
            "NumOfProducts     -0.047820\n",
            "HasCrCard         -0.007138\n",
            "IsActiveMember    -0.156128\n",
            "EstimatedSalary    0.012097\n",
            "Name: Exited, dtype: float64\n"
          ]
        }
      ]
    },
    {
      "cell_type": "code",
      "source": [],
      "metadata": {
        "id": "vZ785B64vBhK"
      },
      "execution_count": null,
      "outputs": []
    },
    {
      "cell_type": "code",
      "source": [
        "# Various Models"
      ],
      "metadata": {
        "id": "5r-75aSavIXZ"
      },
      "execution_count": null,
      "outputs": []
    },
    {
      "cell_type": "code",
      "source": [
        "# Logistic Regression\n",
        "\n",
        "# Training the model\n",
        "lr_model = LogisticRegression()\n",
        "lr_model.fit(X_train, y_train)\n",
        "#lr_model.fit(X_train_res, y_train_res)\n",
        "\n",
        "# Predicting and evaluating\n",
        "y_pred_lr = lr_model.predict(X_test)\n",
        "print(classification_report(y_test, y_pred_lr))\n",
        "print(f'ROC AUC: {roc_auc_score(y_test, y_pred_lr)}')\n"
      ],
      "metadata": {
        "colab": {
          "base_uri": "https://localhost:8080/"
        },
        "id": "5b-iSiPJvS9L",
        "outputId": "784f691a-ce85-426f-92bf-0fc101ea0340"
      },
      "execution_count": null,
      "outputs": [
        {
          "output_type": "stream",
          "name": "stdout",
          "text": [
            "              precision    recall  f1-score   support\n",
            "\n",
            "           0       0.82      0.97      0.89      1607\n",
            "           1       0.54      0.15      0.23       393\n",
            "\n",
            "    accuracy                           0.81      2000\n",
            "   macro avg       0.68      0.56      0.56      2000\n",
            "weighted avg       0.77      0.81      0.76      2000\n",
            "\n",
            "ROC AUC: 0.5591955360691377\n"
          ]
        }
      ]
    },
    {
      "cell_type": "code",
      "source": [
        "# Random Forest\n",
        "# Training the model\n",
        "rf_model = RandomForestClassifier(random_state=42)\n",
        "rf_model.fit(X_train, y_train)\n",
        "#rf_model.fit(X_train_res, y_train_res)\n",
        "\n",
        "# Predict and evaluate\n",
        "y_pred_rf = rf_model.predict(X_test)\n",
        "print(classification_report(y_test, y_pred_rf))\n",
        "print(f'ROC AUC: {roc_auc_score(y_test, y_pred_rf)}')\n"
      ],
      "metadata": {
        "colab": {
          "base_uri": "https://localhost:8080/"
        },
        "id": "gHJrauVZvva_",
        "outputId": "3f4002cf-c92c-4cbe-cb55-5661b2291ca5"
      },
      "execution_count": null,
      "outputs": [
        {
          "output_type": "stream",
          "name": "stdout",
          "text": [
            "              precision    recall  f1-score   support\n",
            "\n",
            "           0       0.88      0.96      0.92      1607\n",
            "           1       0.75      0.46      0.57       393\n",
            "\n",
            "    accuracy                           0.86      2000\n",
            "   macro avg       0.81      0.71      0.75      2000\n",
            "weighted avg       0.85      0.86      0.85      2000\n",
            "\n",
            "ROC AUC: 0.7125726980085535\n"
          ]
        }
      ]
    },
    {
      "cell_type": "code",
      "source": [
        "from sklearn.model_selection import GridSearchCV\n",
        "from sklearn.ensemble import RandomForestClassifier\n",
        "\n",
        "param_grid = {\n",
        "    'n_estimators': [100, 200, 300],\n",
        "    'max_depth': [None, 10, 20, 30],\n",
        "    'min_samples_split': [2, 5, 10]\n",
        "}\n",
        "\n",
        "rf_model = RandomForestClassifier(random_state=42)\n",
        "grid_search = GridSearchCV(estimator=rf_model, param_grid=param_grid, cv=5, scoring='roc_auc')\n",
        "grid_search.fit(X_train, y_train)\n",
        "\n",
        "best_rf_model = grid_search.best_estimator_\n",
        "print(grid_search.best_params_)\n",
        "\n",
        "\n",
        "\n"
      ],
      "metadata": {
        "colab": {
          "base_uri": "https://localhost:8080/"
        },
        "id": "YzhM4mocv80b",
        "outputId": "d3a85f74-d479-4594-cf4f-414db6803611"
      },
      "execution_count": null,
      "outputs": [
        {
          "output_type": "stream",
          "name": "stdout",
          "text": [
            "{'max_depth': 10, 'min_samples_split': 2, 'n_estimators': 300}\n"
          ]
        }
      ]
    },
    {
      "cell_type": "code",
      "source": [
        "# Predicting and evaluating the tuned Random Forest model\n",
        "y_pred_rf = best_rf_model.predict(X_test)\n",
        "print(classification_report(y_test, y_pred_rf))\n",
        "print(f'ROC AUC: {roc_auc_score(y_test, y_pred_rf)}')"
      ],
      "metadata": {
        "colab": {
          "base_uri": "https://localhost:8080/"
        },
        "id": "n4Xwj8Dpy2Ao",
        "outputId": "0f2eba2d-2b96-49d6-ee57-5aad95e884cd"
      },
      "execution_count": null,
      "outputs": [
        {
          "output_type": "stream",
          "name": "stdout",
          "text": [
            "              precision    recall  f1-score   support\n",
            "\n",
            "           0       0.88      0.97      0.92      1607\n",
            "           1       0.77      0.45      0.57       393\n",
            "\n",
            "    accuracy                           0.87      2000\n",
            "   macro avg       0.83      0.71      0.75      2000\n",
            "weighted avg       0.86      0.87      0.85      2000\n",
            "\n",
            "ROC AUC: 0.7102838883953948\n"
          ]
        }
      ]
    },
    {
      "cell_type": "code",
      "source": [
        "# Gradient Boosting\n",
        "# Training the model\n",
        "gb_model = GradientBoostingClassifier()\n",
        "gb_model.fit(X_train, y_train)\n",
        "\n",
        "# Predicting and evaluating\n",
        "y_pred_gb = gb_model.predict(X_test)\n",
        "print(classification_report(y_test, y_pred_gb))\n",
        "print(f'ROC AUC: {roc_auc_score(y_test, y_pred_gb)}')\n"
      ],
      "metadata": {
        "colab": {
          "base_uri": "https://localhost:8080/"
        },
        "id": "SVR2c2CKwHoE",
        "outputId": "04d4df26-a429-48f5-96d7-4f73db8b7898"
      },
      "execution_count": null,
      "outputs": [
        {
          "output_type": "stream",
          "name": "stdout",
          "text": [
            "              precision    recall  f1-score   support\n",
            "\n",
            "           0       0.88      0.96      0.92      1607\n",
            "           1       0.76      0.45      0.57       393\n",
            "\n",
            "    accuracy                           0.86      2000\n",
            "   macro avg       0.82      0.71      0.74      2000\n",
            "weighted avg       0.85      0.86      0.85      2000\n",
            "\n",
            "ROC AUC: 0.7087281945559424\n"
          ]
        }
      ]
    },
    {
      "cell_type": "code",
      "source": [
        "# SVM\n",
        "# Training the model\n",
        "svm_model = SVC(probability=True)\n",
        "svm_model.fit(X_train, y_train)\n",
        "\n",
        "# Predicting and evaluating\n",
        "y_pred_svm = svm_model.predict(X_test)\n",
        "print(classification_report(y_test, y_pred_svm))\n",
        "print(f'ROC AUC: {roc_auc_score(y_test, svm_model.predict_proba(X_test)[:, 1])}')\n"
      ],
      "metadata": {
        "colab": {
          "base_uri": "https://localhost:8080/"
        },
        "id": "7XTStHfzwXBa",
        "outputId": "e58f96f1-4e90-4eb8-f733-87a57327cabb"
      },
      "execution_count": null,
      "outputs": [
        {
          "output_type": "stream",
          "name": "stdout",
          "text": [
            "              precision    recall  f1-score   support\n",
            "\n",
            "           0       0.87      0.98      0.92      1607\n",
            "           1       0.80      0.38      0.51       393\n",
            "\n",
            "    accuracy                           0.86      2000\n",
            "   macro avg       0.83      0.68      0.72      2000\n",
            "weighted avg       0.85      0.86      0.84      2000\n",
            "\n",
            "ROC AUC: 0.8226572359160227\n"
          ]
        }
      ]
    },
    {
      "cell_type": "code",
      "source": [
        "#KNN checking for 13 neighbours\n",
        "\n",
        "for i in range(1,30):\n",
        "    # Training the model\n",
        "    print(i,end=\" \")\n",
        "    print(\"Neighbours\")\n",
        "    knn_model = KNeighborsClassifier(n_neighbors=i)\n",
        "    knn_model.fit(X_train, y_train)\n",
        "\n",
        "    # Predicting and evaluating\n",
        "    y_pred_knn = knn_model.predict(X_test)\n",
        "    print(classification_report(y_test, y_pred_knn))\n",
        "    print(f'ROC AUC: {roc_auc_score(y_test, knn_model.predict_proba(X_test)[:, 1])}')\n"
      ],
      "metadata": {
        "colab": {
          "base_uri": "https://localhost:8080/"
        },
        "id": "F9nGnnoHwgu5",
        "outputId": "31ddb4ff-fa43-4ad1-cd07-dd37a3d0a552"
      },
      "execution_count": null,
      "outputs": [
        {
          "output_type": "stream",
          "name": "stdout",
          "text": [
            "1 Neighbours\n",
            "              precision    recall  f1-score   support\n",
            "\n",
            "           0       0.88      0.87      0.87      1607\n",
            "           1       0.49      0.52      0.50       393\n",
            "\n",
            "    accuracy                           0.80      2000\n",
            "   macro avg       0.68      0.69      0.69      2000\n",
            "weighted avg       0.80      0.80      0.80      2000\n",
            "\n",
            "ROC AUC: 0.6916860237732186\n",
            "2 Neighbours\n",
            "              precision    recall  f1-score   support\n",
            "\n",
            "           0       0.86      0.96      0.91      1607\n",
            "           1       0.70      0.35      0.47       393\n",
            "\n",
            "    accuracy                           0.84      2000\n",
            "   macro avg       0.78      0.66      0.69      2000\n",
            "weighted avg       0.83      0.84      0.82      2000\n",
            "\n",
            "ROC AUC: 0.7323676156003235\n",
            "3 Neighbours\n",
            "              precision    recall  f1-score   support\n",
            "\n",
            "           0       0.88      0.92      0.90      1607\n",
            "           1       0.60      0.47      0.53       393\n",
            "\n",
            "    accuracy                           0.83      2000\n",
            "   macro avg       0.74      0.70      0.71      2000\n",
            "weighted avg       0.82      0.83      0.83      2000\n",
            "\n",
            "ROC AUC: 0.7670251491961853\n",
            "4 Neighbours\n",
            "              precision    recall  f1-score   support\n",
            "\n",
            "           0       0.86      0.97      0.91      1607\n",
            "           1       0.75      0.36      0.49       393\n",
            "\n",
            "    accuracy                           0.85      2000\n",
            "   macro avg       0.81      0.67      0.70      2000\n",
            "weighted avg       0.84      0.85      0.83      2000\n",
            "\n",
            "ROC AUC: 0.7815219990151231\n",
            "5 Neighbours\n",
            "              precision    recall  f1-score   support\n",
            "\n",
            "           0       0.88      0.95      0.91      1607\n",
            "           1       0.67      0.45      0.54       393\n",
            "\n",
            "    accuracy                           0.85      2000\n",
            "   macro avg       0.77      0.70      0.72      2000\n",
            "weighted avg       0.84      0.85      0.84      2000\n",
            "\n",
            "ROC AUC: 0.7906392357861836\n",
            "6 Neighbours\n",
            "              precision    recall  f1-score   support\n",
            "\n",
            "           0       0.86      0.97      0.91      1607\n",
            "           1       0.76      0.37      0.50       393\n",
            "\n",
            "    accuracy                           0.85      2000\n",
            "   macro avg       0.81      0.67      0.71      2000\n",
            "weighted avg       0.84      0.85      0.83      2000\n",
            "\n",
            "ROC AUC: 0.7992751179239681\n",
            "7 Neighbours\n",
            "              precision    recall  f1-score   support\n",
            "\n",
            "           0       0.87      0.95      0.91      1607\n",
            "           1       0.70      0.44      0.54       393\n",
            "\n",
            "    accuracy                           0.85      2000\n",
            "   macro avg       0.79      0.70      0.73      2000\n",
            "weighted avg       0.84      0.85      0.84      2000\n",
            "\n",
            "ROC AUC: 0.8064542689347337\n",
            "8 Neighbours\n",
            "              precision    recall  f1-score   support\n",
            "\n",
            "           0       0.86      0.97      0.91      1607\n",
            "           1       0.76      0.36      0.49       393\n",
            "\n",
            "    accuracy                           0.85      2000\n",
            "   macro avg       0.81      0.66      0.70      2000\n",
            "weighted avg       0.84      0.85      0.83      2000\n",
            "\n",
            "ROC AUC: 0.8112535646369018\n",
            "9 Neighbours\n",
            "              precision    recall  f1-score   support\n",
            "\n",
            "           0       0.87      0.96      0.91      1607\n",
            "           1       0.73      0.40      0.52       393\n",
            "\n",
            "    accuracy                           0.85      2000\n",
            "   macro avg       0.80      0.68      0.72      2000\n",
            "weighted avg       0.84      0.85      0.84      2000\n",
            "\n",
            "ROC AUC: 0.8185680966382762\n",
            "10 Neighbours\n",
            "              precision    recall  f1-score   support\n",
            "\n",
            "           0       0.86      0.98      0.91      1607\n",
            "           1       0.78      0.34      0.47       393\n",
            "\n",
            "    accuracy                           0.85      2000\n",
            "   macro avg       0.82      0.66      0.69      2000\n",
            "weighted avg       0.84      0.85      0.83      2000\n",
            "\n",
            "ROC AUC: 0.8219494545966992\n",
            "11 Neighbours\n",
            "              precision    recall  f1-score   support\n",
            "\n",
            "           0       0.87      0.97      0.91      1607\n",
            "           1       0.75      0.39      0.51       393\n",
            "\n",
            "    accuracy                           0.85      2000\n",
            "   macro avg       0.81      0.68      0.71      2000\n",
            "weighted avg       0.84      0.85      0.84      2000\n",
            "\n",
            "ROC AUC: 0.8260298851557515\n",
            "12 Neighbours\n",
            "              precision    recall  f1-score   support\n",
            "\n",
            "           0       0.86      0.98      0.91      1607\n",
            "           1       0.77      0.35      0.48       393\n",
            "\n",
            "    accuracy                           0.85      2000\n",
            "   macro avg       0.82      0.66      0.70      2000\n",
            "weighted avg       0.84      0.85      0.83      2000\n",
            "\n",
            "ROC AUC: 0.8275056171235577\n",
            "13 Neighbours\n",
            "              precision    recall  f1-score   support\n",
            "\n",
            "           0       0.87      0.97      0.92      1607\n",
            "           1       0.77      0.38      0.51       393\n",
            "\n",
            "    accuracy                           0.86      2000\n",
            "   macro avg       0.82      0.68      0.71      2000\n",
            "weighted avg       0.85      0.86      0.84      2000\n",
            "\n",
            "ROC AUC: 0.8252366000528857\n",
            "14 Neighbours\n",
            "              precision    recall  f1-score   support\n",
            "\n",
            "           0       0.86      0.98      0.91      1607\n",
            "           1       0.79      0.33      0.46       393\n",
            "\n",
            "    accuracy                           0.85      2000\n",
            "   macro avg       0.82      0.65      0.69      2000\n",
            "weighted avg       0.84      0.85      0.82      2000\n",
            "\n",
            "ROC AUC: 0.8240039205068157\n",
            "15 Neighbours\n",
            "              precision    recall  f1-score   support\n",
            "\n",
            "           0       0.86      0.97      0.91      1607\n",
            "           1       0.76      0.37      0.49       393\n",
            "\n",
            "    accuracy                           0.85      2000\n",
            "   macro avg       0.81      0.67      0.70      2000\n",
            "weighted avg       0.84      0.85      0.83      2000\n",
            "\n",
            "ROC AUC: 0.8250584671705057\n",
            "16 Neighbours\n",
            "              precision    recall  f1-score   support\n",
            "\n",
            "           0       0.85      0.98      0.91      1607\n",
            "           1       0.78      0.32      0.45       393\n",
            "\n",
            "    accuracy                           0.85      2000\n",
            "   macro avg       0.82      0.65      0.68      2000\n",
            "weighted avg       0.84      0.85      0.82      2000\n",
            "\n",
            "ROC AUC: 0.8271105579755237\n",
            "17 Neighbours\n",
            "              precision    recall  f1-score   support\n",
            "\n",
            "           0       0.86      0.97      0.91      1607\n",
            "           1       0.76      0.35      0.48       393\n",
            "\n",
            "    accuracy                           0.85      2000\n",
            "   macro avg       0.81      0.66      0.69      2000\n",
            "weighted avg       0.84      0.85      0.83      2000\n",
            "\n",
            "ROC AUC: 0.8288649689415424\n",
            "18 Neighbours\n",
            "              precision    recall  f1-score   support\n",
            "\n",
            "           0       0.85      0.98      0.91      1607\n",
            "           1       0.78      0.31      0.44       393\n",
            "\n",
            "    accuracy                           0.85      2000\n",
            "   macro avg       0.82      0.64      0.68      2000\n",
            "weighted avg       0.84      0.85      0.82      2000\n",
            "\n",
            "ROC AUC: 0.8294555784093447\n",
            "19 Neighbours\n",
            "              precision    recall  f1-score   support\n",
            "\n",
            "           0       0.86      0.97      0.91      1607\n",
            "           1       0.76      0.33      0.46       393\n",
            "\n",
            "    accuracy                           0.85      2000\n",
            "   macro avg       0.81      0.65      0.69      2000\n",
            "weighted avg       0.84      0.85      0.82      2000\n",
            "\n",
            "ROC AUC: 0.8314047479934319\n",
            "20 Neighbours\n",
            "              precision    recall  f1-score   support\n",
            "\n",
            "           0       0.85      0.98      0.91      1607\n",
            "           1       0.80      0.31      0.45       393\n",
            "\n",
            "    accuracy                           0.85      2000\n",
            "   macro avg       0.83      0.65      0.68      2000\n",
            "weighted avg       0.84      0.85      0.82      2000\n",
            "\n",
            "ROC AUC: 0.832130738451843\n",
            "21 Neighbours\n",
            "              precision    recall  f1-score   support\n",
            "\n",
            "           0       0.86      0.98      0.91      1607\n",
            "           1       0.78      0.34      0.47       393\n",
            "\n",
            "    accuracy                           0.85      2000\n",
            "   macro avg       0.82      0.66      0.69      2000\n",
            "weighted avg       0.84      0.85      0.83      2000\n",
            "\n",
            "ROC AUC: 0.8310215643708901\n",
            "22 Neighbours\n",
            "              precision    recall  f1-score   support\n",
            "\n",
            "           0       0.85      0.98      0.91      1607\n",
            "           1       0.79      0.30      0.43       393\n",
            "\n",
            "    accuracy                           0.85      2000\n",
            "   macro avg       0.82      0.64      0.67      2000\n",
            "weighted avg       0.84      0.85      0.82      2000\n",
            "\n",
            "ROC AUC: 0.8325052133556909\n",
            "23 Neighbours\n",
            "              precision    recall  f1-score   support\n",
            "\n",
            "           0       0.85      0.98      0.91      1607\n",
            "           1       0.76      0.32      0.45       393\n",
            "\n",
            "    accuracy                           0.85      2000\n",
            "   macro avg       0.81      0.65      0.68      2000\n",
            "weighted avg       0.84      0.85      0.82      2000\n",
            "\n",
            "ROC AUC: 0.83310057303369\n",
            "24 Neighbours\n",
            "              precision    recall  f1-score   support\n",
            "\n",
            "           0       0.85      0.98      0.91      1607\n",
            "           1       0.82      0.31      0.45       393\n",
            "\n",
            "    accuracy                           0.85      2000\n",
            "   macro avg       0.84      0.64      0.68      2000\n",
            "weighted avg       0.85      0.85      0.82      2000\n",
            "\n",
            "ROC AUC: 0.8333642096996126\n",
            "25 Neighbours\n",
            "              precision    recall  f1-score   support\n",
            "\n",
            "           0       0.85      0.98      0.91      1607\n",
            "           1       0.78      0.32      0.45       393\n",
            "\n",
            "    accuracy                           0.85      2000\n",
            "   macro avg       0.81      0.65      0.68      2000\n",
            "weighted avg       0.84      0.85      0.82      2000\n",
            "\n",
            "ROC AUC: 0.8345644294760043\n",
            "26 Neighbours\n",
            "              precision    recall  f1-score   support\n",
            "\n",
            "           0       0.85      0.98      0.91      1607\n",
            "           1       0.79      0.30      0.43       393\n",
            "\n",
            "    accuracy                           0.85      2000\n",
            "   macro avg       0.82      0.64      0.67      2000\n",
            "weighted avg       0.84      0.85      0.82      2000\n",
            "\n",
            "ROC AUC: 0.8358446111240422\n",
            "27 Neighbours\n",
            "              precision    recall  f1-score   support\n",
            "\n",
            "           0       0.85      0.98      0.91      1607\n",
            "           1       0.78      0.30      0.44       393\n",
            "\n",
            "    accuracy                           0.85      2000\n",
            "   macro avg       0.81      0.64      0.67      2000\n",
            "weighted avg       0.84      0.85      0.82      2000\n",
            "\n",
            "ROC AUC: 0.836376634666084\n",
            "28 Neighbours\n",
            "              precision    recall  f1-score   support\n",
            "\n",
            "           0       0.85      0.98      0.91      1607\n",
            "           1       0.77      0.28      0.41       393\n",
            "\n",
            "    accuracy                           0.84      2000\n",
            "   macro avg       0.81      0.63      0.66      2000\n",
            "weighted avg       0.83      0.84      0.81      2000\n",
            "\n",
            "ROC AUC: 0.8346538917680442\n",
            "29 Neighbours\n",
            "              precision    recall  f1-score   support\n",
            "\n",
            "           0       0.85      0.98      0.91      1607\n",
            "           1       0.77      0.30      0.43       393\n",
            "\n",
            "    accuracy                           0.84      2000\n",
            "   macro avg       0.81      0.64      0.67      2000\n",
            "weighted avg       0.84      0.84      0.82      2000\n",
            "\n",
            "ROC AUC: 0.834872401437097\n"
          ]
        }
      ]
    },
    {
      "cell_type": "code",
      "source": [
        "# Naive Bayes\n",
        "# Training the model\n",
        "nb_model = GaussianNB()\n",
        "nb_model.fit(X_train, y_train)\n",
        "\n",
        "# Predicting and evaluating\n",
        "y_pred_nb = nb_model.predict(X_test)\n",
        "print(classification_report(y_test, y_pred_nb))\n",
        "print(f'ROC AUC: {roc_auc_score(y_test, nb_model.predict_proba(X_test)[:, 1])}')\n"
      ],
      "metadata": {
        "colab": {
          "base_uri": "https://localhost:8080/"
        },
        "id": "Cv_qKSb5wqZs",
        "outputId": "fb3d6ec1-cda4-474a-c3b8-2de757e22b03"
      },
      "execution_count": null,
      "outputs": [
        {
          "output_type": "stream",
          "name": "stdout",
          "text": [
            "              precision    recall  f1-score   support\n",
            "\n",
            "           0       0.84      0.98      0.90      1607\n",
            "           1       0.71      0.23      0.35       393\n",
            "\n",
            "    accuracy                           0.83      2000\n",
            "   macro avg       0.78      0.60      0.62      2000\n",
            "weighted avg       0.81      0.83      0.79      2000\n",
            "\n",
            "ROC AUC: 0.8066252765018187\n"
          ]
        }
      ]
    },
    {
      "cell_type": "code",
      "source": [
        "#ANN\n",
        "# Train the model\n",
        "mlp_model = MLPClassifier(hidden_layer_sizes=(100,), max_iter=300, random_state=42)\n",
        "mlp_model.fit(X_train, y_train)\n",
        "\n",
        "# Predict and evaluate\n",
        "y_pred_mlp = mlp_model.predict(X_test)\n",
        "print(classification_report(y_test, y_pred_mlp))\n",
        "print(f'ROC AUC: {roc_auc_score(y_test, mlp_model.predict_proba(X_test)[:, 1])}')\n"
      ],
      "metadata": {
        "colab": {
          "base_uri": "https://localhost:8080/"
        },
        "id": "WFGt0Ayywx9l",
        "outputId": "85182e3c-a50b-4b8e-806c-4f314e8ffee1"
      },
      "execution_count": null,
      "outputs": [
        {
          "output_type": "stream",
          "name": "stdout",
          "text": [
            "              precision    recall  f1-score   support\n",
            "\n",
            "           0       0.88      0.95      0.92      1607\n",
            "           1       0.71      0.49      0.58       393\n",
            "\n",
            "    accuracy                           0.86      2000\n",
            "   macro avg       0.80      0.72      0.75      2000\n",
            "weighted avg       0.85      0.86      0.85      2000\n",
            "\n",
            "ROC AUC: 0.8499234424456614\n"
          ]
        }
      ]
    },
    {
      "cell_type": "code",
      "source": [
        "#xgb\n",
        "\n",
        "# Training the model\n",
        "xgb_model = xgb.XGBClassifier(random_state=42)\n",
        "xgb_model.fit(X_train, y_train)\n",
        "\n",
        "# Predicting and evaluating\n",
        "y_pred_xgb = xgb_model.predict(X_test)\n",
        "print(classification_report(y_test, y_pred_xgb))\n",
        "print(f'ROC AUC: {roc_auc_score(y_test, xgb_model.predict_proba(X_test)[:, 1])}')\n"
      ],
      "metadata": {
        "colab": {
          "base_uri": "https://localhost:8080/"
        },
        "id": "wTi48uGXw5KN",
        "outputId": "9cb327c8-5eb7-4013-ccf9-e3f1ca4b6a4b"
      },
      "execution_count": null,
      "outputs": [
        {
          "output_type": "stream",
          "name": "stdout",
          "text": [
            "              precision    recall  f1-score   support\n",
            "\n",
            "           0       0.88      0.95      0.91      1607\n",
            "           1       0.69      0.49      0.57       393\n",
            "\n",
            "    accuracy                           0.86      2000\n",
            "   macro avg       0.79      0.72      0.74      2000\n",
            "weighted avg       0.84      0.86      0.85      2000\n",
            "\n",
            "ROC AUC: 0.8399590848561714\n"
          ]
        }
      ]
    },
    {
      "cell_type": "code",
      "source": [
        "#AdaBoostClassifier\n",
        "\n",
        "# Training the model\n",
        "ada_model = AdaBoostClassifier(random_state=42)\n",
        "ada_model.fit(X_train, y_train)\n",
        "\n",
        "# Predicting and evaluating\n",
        "y_pred_ada = ada_model.predict(X_test)\n",
        "print(classification_report(y_test, y_pred_ada))\n",
        "print(f'ROC AUC: {roc_auc_score(y_test, ada_model.predict_proba(X_test)[:, 1])}')\n"
      ],
      "metadata": {
        "colab": {
          "base_uri": "https://localhost:8080/"
        },
        "id": "7PcccvcTxAm0",
        "outputId": "14066672-e770-4aec-b4b6-efd95db2b083"
      },
      "execution_count": null,
      "outputs": [
        {
          "output_type": "stream",
          "name": "stdout",
          "text": [
            "              precision    recall  f1-score   support\n",
            "\n",
            "           0       0.88      0.95      0.92      1607\n",
            "           1       0.71      0.48      0.57       393\n",
            "\n",
            "    accuracy                           0.86      2000\n",
            "   macro avg       0.79      0.72      0.74      2000\n",
            "weighted avg       0.85      0.86      0.85      2000\n",
            "\n",
            "ROC AUC: 0.8425907013051993\n"
          ]
        }
      ]
    },
    {
      "cell_type": "code",
      "source": [],
      "metadata": {
        "id": "kIr6JrQyxKB4"
      },
      "execution_count": null,
      "outputs": []
    }
  ]
}